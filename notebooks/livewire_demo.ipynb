{
 "cells": [
  {
   "cell_type": "markdown",
   "metadata": {},
   "source": [
    "This package implements Livewire segmentation algorithm for image segmentation aka intelligent scissors. The general idea of the algorithm is to use image information for segmentation and avoid crossing object boundaries. A gradient image highlights the boundaries, and Dijkstra’s shortest path algorithm computes a path using gradient differences as segment costs. Thus the line avoids strong gradients in the gradient image, which corresponds to following object boundaries in the original image.\n",
    "\n",
    "For more information, please consult the [documentation](http://livewire-segmentation.readthedocs.org/en/latest/?badge=latest)."
   ]
  },
  {
   "cell_type": "markdown",
   "metadata": {},
   "source": [
    "This notebook demonstrates how to use livewire module in your own code."
   ]
  },
  {
   "cell_type": "code",
   "execution_count": 1,
   "metadata": {
    "collapsed": true
   },
   "outputs": [],
   "source": [
    "import dicom\n",
    "import skimage"
   ]
  },
  {
   "cell_type": "code",
   "execution_count": 21,
   "metadata": {
    "collapsed": false
   },
   "outputs": [],
   "source": [
    "df = dicom.read_file('../images/lung.dcm')\n",
    "image = skimage.img_as_int(df.pixel_array)"
   ]
  },
  {
   "cell_type": "markdown",
   "metadata": {},
   "source": [
    "Next, we initialize Livewire segmentation algorithm class with the image."
   ]
  },
  {
   "cell_type": "code",
   "execution_count": 22,
   "metadata": {
    "collapsed": false
   },
   "outputs": [],
   "source": [
    "import sys\n",
    "sys.path.append('..')\n",
    "from livewire import LiveWireSegmentation"
   ]
  },
  {
   "cell_type": "code",
   "execution_count": 23,
   "metadata": {
    "collapsed": false
   },
   "outputs": [],
   "source": [
    "algorithm = LiveWireSegmentation(image,smooth_image=False, threshold_gradient_image=False)"
   ]
  },
  {
   "cell_type": "markdown",
   "metadata": {},
   "source": [
    "Now let's display the image using matplotlib front end. A click on the image starts livewire segmentation. The suggestion for the best segmentation will appear as you will be moving mouse across the image. To submit a suggestion, click on the image for the second time. To finish the segmentation, press Escape key."
   ]
  },
  {
   "cell_type": "markdown",
   "metadata": {},
   "source": [
    "To draw a good segmentation contour, start on a boundary of an anatomic organ, for example the lung or heart boundary.\n",
    "\n",
    "![Screenshot](../screenshot.png)"
   ]
  },
  {
   "cell_type": "code",
   "execution_count": 24,
   "metadata": {
    "collapsed": false
   },
   "outputs": [
    {
     "name": "stdout",
     "output_type": "stream",
     "text": [
      "Using matplotlib backend: MacOSX\n"
     ]
    }
   ],
   "source": [
    "import numpy as np\n",
    "\n",
    "%matplotlib \n",
    "import matplotlib.pyplot as plt\n",
    "plt.gray()\n",
    "\n",
    "INTERACTIVE = True  # to compute interactive shortest path suggestions\n",
    "\n",
    "from itertools import cycle\n",
    "COLORS = cycle('rgbyc')  # use separate colors for consecutive segmentations\n",
    "\n",
    "start_point = None\n",
    "current_color = COLORS.next()\n",
    "current_path = None\n",
    "length_penalty = 10.0\n",
    "\n",
    "def button_pressed(event):\n",
    "    global start_point\n",
    "    if start_point is None:\n",
    "        start_point = (int(event.ydata), int(event.xdata))\n",
    "        \n",
    "    else:\n",
    "        end_point = (int(event.ydata), int(event.xdata))\n",
    "        \n",
    "        # the line below is calling the segmentation algorithm\n",
    "        path = algorithm.compute_shortest_path(start_point, end_point, length_penalty=length_penalty)\n",
    "        plt.plot(np.array(path)[:,1], np.array(path)[:,0], c=current_color)\n",
    "        start_point = end_point\n",
    "\n",
    "def mouse_moved(event):\n",
    "    if start_point is None:\n",
    "        return\n",
    "    \n",
    "    end_point = (int(event.ydata), int(event.xdata))\n",
    "    \n",
    "    # the line below is calling the segmentation algorithm\n",
    "    path = algorithm.compute_shortest_path(start_point, end_point, length_penalty=length_penalty)\n",
    "    \n",
    "    global current_path\n",
    "    if current_path is not None:\n",
    "        current_path.pop(0).remove()\n",
    "    current_path = plt.plot(np.array(path)[:,1], np.array(path)[:,0], c=current_color)\n",
    "\n",
    "def key_pressed(event):\n",
    "    if event.key == 'escape':\n",
    "        global start_point, current_color\n",
    "        start_point = None\n",
    "        current_color = COLORS.next()\n",
    "\n",
    "        global current_path\n",
    "        if current_path is not None:\n",
    "            current_path.pop(0).remove()\n",
    "            current_path = None\n",
    "            plt.draw()\n",
    "\n",
    "plt.connect('button_release_event', button_pressed)\n",
    "if INTERACTIVE:\n",
    "    plt.connect('motion_notify_event', mouse_moved)\n",
    "plt.connect('key_press_event', key_pressed)\n",
    "\n",
    "plt.imshow(image)\n",
    "plt.autoscale(False)\n",
    "plt.title('Livewire example')\n",
    "plt.show()"
   ]
  }
 ],
 "metadata": {
  "kernelspec": {
   "display_name": "Python 2",
   "language": "python",
   "name": "python2"
  },
  "language_info": {
   "codemirror_mode": {
    "name": "ipython",
    "version": 2
   },
   "file_extension": ".py",
   "mimetype": "text/x-python",
   "name": "python",
   "nbconvert_exporter": "python",
   "pygments_lexer": "ipython2",
   "version": "2.7.10"
  }
 },
 "nbformat": 4,
 "nbformat_minor": 0
}
