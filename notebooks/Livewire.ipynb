{
 "cells": [
  {
   "cell_type": "code",
   "execution_count": 1,
   "metadata": {
    "collapsed": false
   },
   "outputs": [
    {
     "name": "stdout",
     "output_type": "stream",
     "text": [
      "/Users/missoni/GitHub/livewire\n"
     ]
    }
   ],
   "source": [
    "%cd .."
   ]
  },
  {
   "cell_type": "markdown",
   "metadata": {},
   "source": [
    "In this notebook, we shall reproduce Livewire algorithm and compute the shortest path between two clicks."
   ]
  },
  {
   "cell_type": "markdown",
   "metadata": {},
   "source": [
    "# Input\n",
    "read a DICOM slice image from file, convert it to a numpy array (http://www.osirix-viewer.com/datasets/)"
   ]
  },
  {
   "cell_type": "code",
   "execution_count": 2,
   "metadata": {
    "collapsed": true
   },
   "outputs": [],
   "source": [
    "import skimage"
   ]
  },
  {
   "cell_type": "code",
   "execution_count": 3,
   "metadata": {
    "collapsed": false
   },
   "outputs": [],
   "source": [
    "import dicom"
   ]
  },
  {
   "cell_type": "code",
   "execution_count": 4,
   "metadata": {
    "collapsed": false
   },
   "outputs": [],
   "source": [
    "df = dicom.read_file('IM-0001-0011.dcm')"
   ]
  },
  {
   "cell_type": "code",
   "execution_count": 5,
   "metadata": {
    "collapsed": false
   },
   "outputs": [],
   "source": [
    "image = skimage.img_as_uint(df.pixel_array)"
   ]
  },
  {
   "cell_type": "code",
   "execution_count": 6,
   "metadata": {
    "collapsed": true
   },
   "outputs": [
    {
     "name": "stdout",
     "output_type": "stream",
     "text": [
      "[[1619 1619 1619 ..., 1619 1619 1619]\n",
      " [1619 1619 1619 ..., 1619 1619 1619]\n",
      " [1619 1619 1619 ..., 1619 1619 1619]\n",
      " ..., \n",
      " [1619 1619 1619 ..., 1619 1619 1619]\n",
      " [1619 1619 1619 ..., 1619 1619 1619]\n",
      " [1619 1619 1619 ..., 1619 1619 1619]] [1619 1619 1619 1619 1619 1619 1619 1619 1619 1619 1619 1619 1619 1619 1619\n",
      " 1619 1619 1619 1619 1619 1619 1619 1619 1619 1619 1619 1619 1619 1619 1619\n",
      " 1619 1619 1619 1619 1619 1619 1619 1619 1619 1619 1619 1619 1619 1619 1619\n",
      " 1619 1619 1619 1619 1619 1619 1619 1619 1619 1619 1619 1619 1619 1619 1619\n",
      " 1619 1619 1619 1619 1650 1641 1615 1633 1619 1624 1618 1616 1629 1620 1620\n",
      " 1618 1630 1612 1636 1628 1648 1629 1642 1641 1636 1636 1603 1662 1596 1745\n",
      " 1811 1860 1996 2214 2339 2216 1915 1680 1664 1770 1828 1784 1739 1755 1778\n",
      " 1746 1684 1660 1671 1663 1633 1640 1722 1821 1860 1828 1796 1794 1796 1762\n",
      " 1715 1688 1691 1686 1663 1643 1643 1652 1647 1628 1619 1640 1671 1680 1653\n",
      " 1616 1603 1625 1654 1678 1704 1747 1792 1798 1751 1677 1637 1640 1656 1656\n",
      " 1643 1644 1670 1697 1696 1669 1652 1663 1692 1713 1712 1704 1699 1689 1669\n",
      " 1643 1633 1650 1664 1659 1639 1629 1642 1664 1668 1655 1645 1653 1675 1683\n",
      " 1670 1640 1621 1638 1676 1707 1706 1681 1661 1668 1685 1678 1646 1621 1628\n",
      " 1653 1660 1644 1637 1659 1679 1664 1629 1617 1641 1667 1655 1625 1625 1668\n",
      " 1699 1678 1626 1611 1651 1699 1705 1675 1657 1668 1694 1706 1714 1736 1781\n",
      " 1835 1867 1839 1739 1625 1583 1642 1717 1719 1650 1617 1685 1803 1882 1891\n",
      " 1889 1919 1955 1923 1810 1694 1632 1629 1677 1782 1925 2038 2081 2063 1959\n",
      " 1812 1704 1640 1613 1629 1667 1702 1731 1775 1842 1902 1923 1885 1790 1704\n",
      " 1675 1685 1703 1690 1669 1670 1695 1721 1720 1705 1703 1712 1709 1681 1637\n",
      " 1602 1587 1592 1612 1636 1647 1630 1607 1598 1610 1631 1645 1661 1679 1687\n",
      " 1669 1637 1632 1662 1692 1682 1639 1610 1625 1661 1667 1633 1603 1619 1660\n",
      " 1677 1658 1630 1625 1628 1620 1605 1611 1651 1690 1700 1681 1660 1652 1646\n",
      " 1629 1612 1611 1621 1630 1626 1625 1628 1641 1645 1632 1618 1616 1637 1670\n",
      " 1683 1663 1627 1608 1620 1652 1667 1645 1605 1593 1626 1697 1761 1786 1777\n",
      " 1764 1764 1765 1755 1733 1717 1709 1703 1702 1703 1705 1685 1645 1646 1735\n",
      " 1890 1994 1962 1822 1702 1655 1654 1629 1583 1555 1556 1553 1543 1561 1616\n",
      " 1661 1650 1606 1596 1632 1648 1611 1573 1593 1644 1665 1655 1676 1721 1695\n",
      " 1586 1562 1787 2171 2406 2289 1985 1834 1955 2182 2273 2200 2096 2052 2028\n",
      " 1966 1886 1827 1780 1717 1641 1625 1621 1621 1647 1614 1638 1630 1630 1632\n",
      " 1612 1623 1612 1614 1614 1601 1603 1611 1616 1616 1626 1618 1628 1619 1619\n",
      " 1619 1619 1619 1619 1619 1619 1619 1619 1619 1619 1619 1619 1619 1619 1619\n",
      " 1619 1619 1619 1619 1619 1619 1619 1619 1619 1619 1619 1619 1619 1619 1619\n",
      " 1619 1619 1619 1619 1619 1619 1619 1619 1619 1619 1619 1619 1619 1619 1619\n",
      " 1619 1619 1619 1619 1619 1619 1619 1619 1619 1619 1619 1619 1619 1619 1619\n",
      " 1619 1619]\n"
     ]
    }
   ],
   "source": [
    "print image, image[int(image.shape[0]*0.5)]"
   ]
  },
  {
   "cell_type": "markdown",
   "metadata": {},
   "source": [
    "# Compute gradient image \n",
    "(http://scikit-image.org/docs/dev/api/skimage.filters.html#skimage.filters.sobel)"
   ]
  },
  {
   "cell_type": "code",
   "execution_count": 7,
   "metadata": {
    "collapsed": true
   },
   "outputs": [],
   "source": [
    "from skimage import filters"
   ]
  },
  {
   "cell_type": "code",
   "execution_count": 8,
   "metadata": {
    "collapsed": false
   },
   "outputs": [],
   "source": [
    "edges = filters.sobel(image)*1000"
   ]
  },
  {
   "cell_type": "markdown",
   "metadata": {},
   "source": [
    "# Display image"
   ]
  },
  {
   "cell_type": "code",
   "execution_count": 9,
   "metadata": {
    "collapsed": false
   },
   "outputs": [
    {
     "name": "stdout",
     "output_type": "stream",
     "text": [
      "Using matplotlib backend: MacOSX\n"
     ]
    }
   ],
   "source": [
    "from skimage import io\n",
    "import pylab\n",
    "import matplotlib.pyplot as plt\n",
    "%matplotlib"
   ]
  },
  {
   "cell_type": "markdown",
   "metadata": {},
   "source": [
    "# Convert gradient image into a graph"
   ]
  },
  {
   "cell_type": "code",
   "execution_count": 10,
   "metadata": {
    "collapsed": false
   },
   "outputs": [],
   "source": [
    "from math import fabs\n",
    "\n",
    "G = {}\n",
    "edges.shape\n",
    "rows, cols = edges.shape\n",
    "for col in range(cols):\n",
    "    for row in range(rows):\n",
    "        \n",
    "        neighbors = []\n",
    "        if row > 0:\n",
    "            neighbors.append( (row-1, col) )\n",
    "        \n",
    "        if row < rows-1:\n",
    "            neighbors.append( (row+1, col) )\n",
    "            \n",
    "        if col > 0:\n",
    "            neighbors.append( (row, col-1) )\n",
    "        \n",
    "        if col < cols-1:\n",
    "            neighbors.append( (row, col+1) )\n",
    "        \n",
    "        dist = {}\n",
    "        for n in neighbors:\n",
    "            n[0], n[1]\n",
    "            dist[n] = fabs(edges[row][col] - edges[n[0], n[1]])\n",
    "            \n",
    "        G[(row,col)] = dist"
   ]
  },
  {
   "cell_type": "markdown",
   "metadata": {},
   "source": [
    "Re-use Dijkstra algorithm (http://code.activestate.com/recipes/119466-dijkstras-algorithm-for-shortest-paths/)"
   ]
  },
  {
   "cell_type": "code",
   "execution_count": 12,
   "metadata": {
    "collapsed": false
   },
   "outputs": [
    {
     "name": "stdout",
     "output_type": "stream",
     "text": [
      "\n"
     ]
    }
   ],
   "source": [
    "from dijkstra import shortestPath, shortestPath2"
   ]
  },
  {
   "cell_type": "code",
   "execution_count": 13,
   "metadata": {
    "collapsed": true
   },
   "outputs": [
    {
     "data": {
      "text/plain": [
       "[(257, 315),\n",
       " (256, 315),\n",
       " (255, 315),\n",
       " (254, 315),\n",
       " (254, 314),\n",
       " (253, 314),\n",
       " (253, 313),\n",
       " (252, 313),\n",
       " (251, 313),\n",
       " (251, 312),\n",
       " (250, 312),\n",
       " (249, 312),\n",
       " (249, 311),\n",
       " (248, 311),\n",
       " (248, 310),\n",
       " (247, 310),\n",
       " (246, 310),\n",
       " (245, 310),\n",
       " (244, 310),\n",
       " (243, 310),\n",
       " (242, 310),\n",
       " (241, 310),\n",
       " (240, 310),\n",
       " (239, 310),\n",
       " (238, 310),\n",
       " (237, 310),\n",
       " (236, 310),\n",
       " (235, 310),\n",
       " (234, 310),\n",
       " (233, 310),\n",
       " (232, 310)]"
      ]
     },
     "execution_count": 13,
     "metadata": {},
     "output_type": "execute_result"
    }
   ],
   "source": [
    "shortestPath2(G, (257, 315), (232, 310))"
   ]
  },
  {
   "cell_type": "code",
   "execution_count": 14,
   "metadata": {
    "collapsed": true
   },
   "outputs": [
    {
     "name": "stdout",
     "output_type": "stream",
     "text": [
      "None\n"
     ]
    },
    {
     "name": "stderr",
     "output_type": "stream",
     "text": [
      "/Library/Python/2.7/site-packages/skimage/io/_plugins/matplotlib_plugin.py:75: UserWarning: Float image out of standard range; displaying image with stretched contrast.\n",
      "  warnings.warn(\"Float image out of standard range; displaying image \"\n"
     ]
    },
    {
     "name": "stdout",
     "output_type": "stream",
     "text": [
      "289.1 116.833333333\n",
      "first click\n",
      "335.766666667 130.166666667\n",
      "second click\n",
      "[(289, 116), (290, 116), (291, 116), (292, 116), (292, 117), (292, 118), (293, 118), (293, 119), (293, 120), (293, 121), (294, 121), (294, 122), (295, 122), (295, 123), (295, 124), (295, 125), (295, 126), (295, 127), (296, 127), (296, 128), (296, 129), (297, 129), (298, 129), (298, 130), (299, 130), (300, 130), (301, 130), (302, 130), (303, 130), (304, 130), (305, 130), (306, 130), (307, 130), (308, 130), (309, 130), (310, 130), (311, 130), (312, 130), (313, 130), (314, 130), (315, 130), (316, 130), (317, 130), (318, 130), (319, 130), (320, 130), (321, 130), (322, 130), (323, 130), (324, 130), (325, 130), (326, 130), (327, 130), (328, 130), (329, 130), (330, 130), (331, 130), (332, 130), (333, 130), (334, 130), (335, 130)]\n",
      "306.875 87.7604166667\n",
      "first click\n",
      "354.270833333 116.927083333\n",
      "second click\n",
      "[(306, 87), (306, 86), (306, 85), (307, 85), (308, 85), (308, 86), (309, 86), (310, 86), (310, 87), (311, 87), (312, 87), (313, 87), (314, 87), (315, 87), (316, 87), (317, 87), (318, 87), (319, 87), (319, 88), (319, 89), (320, 89), (321, 89), (322, 89), (323, 89), (324, 89), (325, 89), (326, 89), (327, 89), (328, 89), (329, 89), (329, 90), (329, 91), (330, 91), (330, 92), (330, 93), (330, 94), (330, 95), (330, 96), (330, 97), (330, 98), (330, 99), (330, 100), (330, 101), (330, 102), (330, 103), (330, 104), (330, 105), (330, 106), (330, 107), (330, 108), (330, 109), (330, 110), (330, 111), (330, 112), (330, 113), (330, 114), (330, 115), (330, 116), (331, 116), (332, 116), (333, 116), (334, 116), (335, 116), (336, 116), (337, 116), (338, 116), (339, 116), (340, 116), (341, 116), (342, 116), (343, 116), (344, 116), (345, 116), (346, 116), (347, 116), (348, 116), (349, 116), (350, 116), (351, 116), (352, 116), (353, 116), (354, 116)]\n",
      "100.94017094 334.935897436\n",
      "first click\n",
      "123.376068376 390.491452991\n",
      "second click\n",
      "[(100, 334), (101, 334), (102, 334), (103, 334), (103, 335), (103, 336), (104, 336), (105, 336), (106, 336), (107, 336), (107, 337), (108, 337), (109, 337), (109, 338), (110, 338), (111, 338), (112, 338), (113, 338), (114, 338), (115, 338), (115, 339), (115, 340), (115, 341), (116, 341), (116, 342), (117, 342), (117, 343), (118, 343), (119, 343), (120, 343), (120, 344), (120, 345), (120, 346), (120, 347), (120, 348), (120, 349), (120, 350), (120, 351), (120, 352), (120, 353), (120, 354), (120, 355), (120, 356), (120, 357), (120, 358), (120, 359), (120, 360), (120, 361), (120, 362), (120, 363), (120, 364), (120, 365), (120, 366), (120, 367), (120, 368), (120, 369), (120, 370), (120, 371), (120, 372), (120, 373), (120, 374), (120, 375), (120, 376), (120, 377), (120, 378), (120, 379), (120, 380), (120, 381), (120, 382), (120, 383), (120, 384), (120, 385), (120, 386), (120, 387), (120, 388), (120, 389), (120, 390), (121, 390), (122, 390), (123, 390)]"
     ]
    }
   ],
   "source": [
    "start_point = None\n",
    "print start_point\n",
    "\n",
    "def button_pressed(event):\n",
    "    global start_point\n",
    "    \n",
    "    print event.xdata, event.ydata\n",
    "    if start_point is None:\n",
    "        start_point = (int(event.xdata), int(event.ydata))\n",
    "        print 'first click'\n",
    "        \n",
    "    else:\n",
    "        print 'second click'\n",
    "        path = shortestPath2(G, start_point, (int(event.xdata), int(event.ydata)))\n",
    "        print path\n",
    "        start_point = None\n",
    "        plt.plot(np.array(path)[:,0], np.array(path)[:,1])\n",
    "\n",
    "import numpy as np\n",
    "io.imshow(edges, cmap=plt.cm.gray )\n",
    "plt.connect('button_release_event', button_pressed)\n",
    "io.show()"
   ]
  }
 ],
 "metadata": {
  "kernelspec": {
   "display_name": "Python 2",
   "language": "python",
   "name": "python2"
  },
  "language_info": {
   "codemirror_mode": {
    "name": "ipython",
    "version": 2
   },
   "file_extension": ".py",
   "mimetype": "text/x-python",
   "name": "python",
   "nbconvert_exporter": "python",
   "pygments_lexer": "ipython2",
   "version": "2.7.10"
  }
 },
 "nbformat": 4,
 "nbformat_minor": 0
}
